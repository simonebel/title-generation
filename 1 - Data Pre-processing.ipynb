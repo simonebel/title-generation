{
 "cells": [
  {
   "cell_type": "code",
   "execution_count": 18,
   "metadata": {},
   "outputs": [],
   "source": [
    "from tokenizers.processors import TemplateProcessing\n",
    "from tokenizers import Tokenizer, normalizers\n",
    "from tokenizers.normalizers import NFD, StripAccents\n",
    "from tokenizers.pre_tokenizers import Whitespace\n",
    "from tokenizers.models import WordPiece\n",
    "from tokenizers.trainers import WordPieceTrainer\n",
    "from tokenizers import decoders\n",
    "\n",
    "import pandas as pd \n",
    "import numpy as np \n",
    "import pickle as pkl\n",
    "import json\n",
    "\n",
    "from sklearn.model_selection import train_test_split"
   ]
  },
  {
   "cell_type": "markdown",
   "metadata": {},
   "source": [
    "# Data Pre-Processing and vocabulary building"
   ]
  },
  {
   "cell_type": "markdown",
   "metadata": {},
   "source": [
    "## 1 - Data Splitting "
   ]
  },
  {
   "cell_type": "code",
   "execution_count": 10,
   "metadata": {
    "scrolled": true,
    "tags": []
   },
   "outputs": [
    {
     "name": "stderr",
     "output_type": "stream",
     "text": [
      "C:\\Users\\Simon\\anaconda3\\lib\\site-packages\\IPython\\core\\interactiveshell.py:3418: DtypeWarning: Columns (1) have mixed types.Specify dtype option on import or set low_memory=False.\n",
      "  exec(code_obj, self.user_global_ns, self.user_ns)\n"
     ]
    },
    {
     "data": {
      "text/html": [
       "<div>\n",
       "<style scoped>\n",
       "    .dataframe tbody tr th:only-of-type {\n",
       "        vertical-align: middle;\n",
       "    }\n",
       "\n",
       "    .dataframe tbody tr th {\n",
       "        vertical-align: top;\n",
       "    }\n",
       "\n",
       "    .dataframe thead th {\n",
       "        text-align: right;\n",
       "    }\n",
       "</style>\n",
       "<table border=\"1\" class=\"dataframe\">\n",
       "  <thead>\n",
       "    <tr style=\"text-align: right;\">\n",
       "      <th></th>\n",
       "      <th>id</th>\n",
       "      <th>title</th>\n",
       "      <th>abstract</th>\n",
       "    </tr>\n",
       "  </thead>\n",
       "  <tbody>\n",
       "    <tr>\n",
       "      <th>0</th>\n",
       "      <td>704.0001</td>\n",
       "      <td>Calculation of prompt diphoton production cros...</td>\n",
       "      <td>A fully differential calculation in perturba...</td>\n",
       "    </tr>\n",
       "    <tr>\n",
       "      <th>1</th>\n",
       "      <td>704.0002</td>\n",
       "      <td>Sparsity-certifying Graph Decompositions</td>\n",
       "      <td>We describe a new algorithm, the $(k,\\ell)$-...</td>\n",
       "    </tr>\n",
       "    <tr>\n",
       "      <th>2</th>\n",
       "      <td>704.0003</td>\n",
       "      <td>The evolution of the Earth-Moon system based o...</td>\n",
       "      <td>The evolution of Earth-Moon system is descri...</td>\n",
       "    </tr>\n",
       "    <tr>\n",
       "      <th>3</th>\n",
       "      <td>704.0004</td>\n",
       "      <td>A determinant of Stirling cycle numbers counts...</td>\n",
       "      <td>We show that a determinant of Stirling cycle...</td>\n",
       "    </tr>\n",
       "    <tr>\n",
       "      <th>4</th>\n",
       "      <td>704.0005</td>\n",
       "      <td>From dyadic $\\Lambda_{\\alpha}$ to $\\Lambda_{\\a...</td>\n",
       "      <td>In this paper we show how to compute the $\\L...</td>\n",
       "    </tr>\n",
       "    <tr>\n",
       "      <th>...</th>\n",
       "      <td>...</td>\n",
       "      <td>...</td>\n",
       "      <td>...</td>\n",
       "    </tr>\n",
       "    <tr>\n",
       "      <th>1934880</th>\n",
       "      <td>supr-con/9608008</td>\n",
       "      <td>On the origin of the irreversibility line in t...</td>\n",
       "      <td>We report on measurements of the angular dep...</td>\n",
       "    </tr>\n",
       "    <tr>\n",
       "      <th>1934881</th>\n",
       "      <td>supr-con/9609001</td>\n",
       "      <td>Nonlinear Response of HTSC Thin Film Microwave...</td>\n",
       "      <td>The non-linear microwave surface impedance o...</td>\n",
       "    </tr>\n",
       "    <tr>\n",
       "      <th>1934882</th>\n",
       "      <td>supr-con/9609002</td>\n",
       "      <td>Critical State Flux Penetration and Linear Mic...</td>\n",
       "      <td>The vortex contribution to the dc field (H) ...</td>\n",
       "    </tr>\n",
       "    <tr>\n",
       "      <th>1934883</th>\n",
       "      <td>supr-con/9609003</td>\n",
       "      <td>Density of States and NMR Relaxation Rate in A...</td>\n",
       "      <td>We show that the density of states in an ani...</td>\n",
       "    </tr>\n",
       "    <tr>\n",
       "      <th>1934884</th>\n",
       "      <td>supr-con/9609004</td>\n",
       "      <td>Ginzburg Landau theory for d-wave pairing and ...</td>\n",
       "      <td>The Ginzburg Landau theory for d_{x^2-y^2}-w...</td>\n",
       "    </tr>\n",
       "  </tbody>\n",
       "</table>\n",
       "<p>1934885 rows × 3 columns</p>\n",
       "</div>"
      ],
      "text/plain": [
       "                       id                                              title  \\\n",
       "0                704.0001  Calculation of prompt diphoton production cros...   \n",
       "1                704.0002           Sparsity-certifying Graph Decompositions   \n",
       "2                704.0003  The evolution of the Earth-Moon system based o...   \n",
       "3                704.0004  A determinant of Stirling cycle numbers counts...   \n",
       "4                704.0005  From dyadic $\\Lambda_{\\alpha}$ to $\\Lambda_{\\a...   \n",
       "...                   ...                                                ...   \n",
       "1934880  supr-con/9608008  On the origin of the irreversibility line in t...   \n",
       "1934881  supr-con/9609001  Nonlinear Response of HTSC Thin Film Microwave...   \n",
       "1934882  supr-con/9609002  Critical State Flux Penetration and Linear Mic...   \n",
       "1934883  supr-con/9609003  Density of States and NMR Relaxation Rate in A...   \n",
       "1934884  supr-con/9609004  Ginzburg Landau theory for d-wave pairing and ...   \n",
       "\n",
       "                                                  abstract  \n",
       "0          A fully differential calculation in perturba...  \n",
       "1          We describe a new algorithm, the $(k,\\ell)$-...  \n",
       "2          The evolution of Earth-Moon system is descri...  \n",
       "3          We show that a determinant of Stirling cycle...  \n",
       "4          In this paper we show how to compute the $\\L...  \n",
       "...                                                    ...  \n",
       "1934880    We report on measurements of the angular dep...  \n",
       "1934881    The non-linear microwave surface impedance o...  \n",
       "1934882    The vortex contribution to the dc field (H) ...  \n",
       "1934883    We show that the density of states in an ani...  \n",
       "1934884    The Ginzburg Landau theory for d_{x^2-y^2}-w...  \n",
       "\n",
       "[1934885 rows x 3 columns]"
      ]
     },
     "execution_count": 10,
     "metadata": {},
     "output_type": "execute_result"
    }
   ],
   "source": [
    "path_to_data = './data/arxiv.csv'\n",
    "arxiv_dataset = pd.read_csv(path_to_data, index_col=[0])\n",
    "arxiv_dataset"
   ]
  },
  {
   "cell_type": "code",
   "execution_count": 33,
   "metadata": {},
   "outputs": [],
   "source": [
    "abstract = arxiv_dataset['abstract'].to_numpy()\n",
    "title = arxiv_dataset['title'].to_numpy()\n",
    "\n",
    "subsample_abstract, _ , subsample_title, _  = train_test_split(abstract, title, test_size = 0.99)\n",
    "\n",
    "train_abstract, test_abstract, train_title, test_title = train_test_split(subsample_abstract, subsample_title, test_size = 0.2)\n",
    "\n",
    "train_abstract, dev_abstract, train_title, dev_title = train_test_split(train_abstract, train_title, test_size = 0.2)\n",
    "\n",
    "\n",
    "train = {'abstract' : train_abstract, 'title': train_title}\n",
    "test = {'abstract' : test_abstract, 'title': test_title}\n",
    "dev = {'abstract' : dev_abstract, 'title': dev_title}\n",
    "\n",
    "\n",
    "train_df = pd.DataFrame(train)\n",
    "test_df = pd.DataFrame(test)\n",
    "dev_df = pd.DataFrame(dev)\n",
    "\n",
    "train_df = train_df.head(512)\n",
    "dev_df = dev_df.head(64)\n",
    "test_df = test_df.head(64)"
   ]
  },
  {
   "cell_type": "code",
   "execution_count": 34,
   "metadata": {},
   "outputs": [],
   "source": [
    "path_to_preprocess_data = './data/preprocess/'\n",
    "pkl.dump(train_df, open(path_to_preprocess_data + 'train.pkl', 'wb'))\n",
    "pkl.dump(test_df, open(path_to_preprocess_data + 'test.pkl', 'wb'))\n",
    "pkl.dump(dev_df, open(path_to_preprocess_data + 'dev.pkl', 'wb'))"
   ]
  },
  {
   "cell_type": "markdown",
   "metadata": {},
   "source": [
    "## 2 - Pre-tokenization, Tokenization and Learn the Vocabulary "
   ]
  },
  {
   "cell_type": "code",
   "execution_count": 35,
   "metadata": {},
   "outputs": [],
   "source": [
    "wp_tokenizer = Tokenizer(WordPiece(unk_token=\"[UNK]\"))\n",
    "\n",
    "wp_tokenizer.post_processor = TemplateProcessing(\n",
    "    single=\"[SOS] $A [EOS]\",\n",
    "    special_tokens=[\n",
    "        (\"[PAD]\", 0),\n",
    "        (\"[SOS]\", 1),\n",
    "        (\"[EOS]\", 2),\n",
    "        (\"[UNK]\", 3),\n",
    "    ],\n",
    ")\n",
    "\n",
    "wp_tokenizer.pre_tokenizer = Whitespace()\n",
    "wp_tokenizer.normalizer = normalizers.Sequence([NFD(), StripAccents()])\n",
    "wp_tokenizer.decoder = decoders.WordPiece()"
   ]
  },
  {
   "cell_type": "code",
   "execution_count": 36,
   "metadata": {},
   "outputs": [],
   "source": [
    "wp_trainer = WordPieceTrainer(\n",
    "    vocab_size=30522, special_tokens=[\"[UNK]\", \"[SOS]\", \"[EOS]\", \"[PAD]\"]\n",
    ")\n",
    "\n",
    "train_df = pkl.load(open(path_to_preprocess_data + 'train.pkl', 'rb'))\n",
    "\n",
    "train = np.concatenate((train_df['abstract'].to_numpy(), train_df['title'].to_numpy()), axis = 0)\n",
    "train\n",
    "\n",
    "wp_tokenizer.train_from_iterator(train, wp_trainer)\n",
    "wp_tokenizer.save(\"./data/preprocess/vocab.json\")"
   ]
  },
  {
   "cell_type": "code",
   "execution_count": 38,
   "metadata": {
    "scrolled": true,
    "tags": []
   },
   "outputs": [],
   "source": []
  },
  {
   "cell_type": "code",
   "execution_count": 40,
   "metadata": {},
   "outputs": [
    {
     "data": {
      "text/plain": [
       "17454"
      ]
     },
     "execution_count": 40,
     "metadata": {},
     "output_type": "execute_result"
    }
   ],
   "source": []
  },
  {
   "cell_type": "code",
   "execution_count": null,
   "metadata": {},
   "outputs": [],
   "source": []
  }
 ],
 "metadata": {
  "kernelspec": {
   "display_name": "Python 3",
   "language": "python",
   "name": "python3"
  },
  "language_info": {
   "codemirror_mode": {
    "name": "ipython",
    "version": 3
   },
   "file_extension": ".py",
   "mimetype": "text/x-python",
   "name": "python",
   "nbconvert_exporter": "python",
   "pygments_lexer": "ipython3",
   "version": "3.8.5"
  }
 },
 "nbformat": 4,
 "nbformat_minor": 4
}
